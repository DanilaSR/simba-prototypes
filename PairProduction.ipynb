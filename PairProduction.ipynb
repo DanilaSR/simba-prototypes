{
 "cells": [
  {
   "cell_type": "markdown",
   "metadata": {},
   "source": [
    "# Pair Production\n"
   ]
  },
  {
   "cell_type": "markdown",
   "metadata": {},
   "source": [
    "Input:\n",
    "   * double Z - The charge number of the target atom.\n",
    "   * double A - The mass number of the target atom.\n",
    "   * double mass - The projectile rest mass, in GeV\n",
    "   * double K - The projectile initial kinetic energy.\n",
    "   * double q - The kinetic energy lost to the photon.\n",
    "   \n",
    "\n",
    "Output:\n",
    "    DCS in m^2/kg.\n",
    "    \n",
    "Coefficients for the Gaussian quadrature from:\n",
    "https://pomax.github.io/bezierinfo/legendre-gauss.html.\n",
    " \n",
    "Theory from https://lappweb.in2p3.fr/~maire/tutorials/directpair.pdf\n",
    "        "
   ]
  },
  {
   "cell_type": "markdown",
   "metadata": {},
   "source": [
    "\\begin{equation}\n",
    "\\frac{\\text{d}\\sigma}{\\text{d}\\nu}(E, \\nu) = \\frac{4}{3\\pi}  {(\\alpha r_e)}^{2} \\frac{Z(Z + \\xi(Z))}{A} (\\frac{1 - \\nu}{E\\nu}) \\int_{p}[\\Phi_e + (m_e/M_\\mu)^{2}\\Phi_\\mu]dp\n",
    "\\end{equation}"
   ]
  },
  {
   "cell_type": "markdown",
   "metadata": {},
   "source": [
    "### Define Coefficients for the Gaussian quadrature"
   ]
  },
  {
   "cell_type": "code",
   "execution_count": null,
   "metadata": {},
   "outputs": [],
   "source": [
    "#define N_GQ 8\n",
    "@njit(double(double,double,double,double,double))\n",
    "def pair_production(Z, A, mass, K, q):\n",
    "    N_GQ = 8\n",
    "    xGQ = [ 0.01985507, 0.10166676, 0.2372338, 0.40828268, 0.59171732, 0.7627662, 0.89833324, 0.98014493 ]\n",
    "    wGQ = [ 0.05061427, 0.11119052, 0.15685332, 0.18134189, 0.18134189, 0.15685332, 0.11119052, 0.05061427 ]\n",
    "\n",
    " "
   ]
  },
  {
   "cell_type": "markdown",
   "metadata": {},
   "source": [
    "### Check the bounds of the energy transfer."
   ]
  },
  {
   "cell_type": "code",
   "execution_count": null,
   "metadata": {},
   "outputs": [],
   "source": [
    "    if q <= 4.0 * ELECTRON_MASS:\n",
    "        return 0.0\n",
    "    sqrte = 1.6487212707\n",
    "    Z13 = math.pow(Z, 1. / 3.)\n",
    "    if q >= K + mass * (1.0 - 0.75 * sqrte * Z13):\n",
    "        return 0."
   ]
  },
  {
   "cell_type": "markdown",
   "metadata": {},
   "source": [
    "### Precompute some constant factors for the integration."
   ]
  },
  {
   "cell_type": "code",
   "execution_count": null,
   "metadata": {},
   "outputs": [],
   "source": [
    "    nu = q / (K + mass)"
   ]
  },
  {
   "cell_type": "code",
   "execution_count": null,
   "metadata": {},
   "outputs": [],
   "source": [
    "    r = mass / ELECTRON_MASS"
   ]
  },
  {
   "cell_type": "markdown",
   "metadata": {},
   "source": [
    "\\begin{equation}\n",
    "r = \\frac{M_\\mu}{m_e}\n",
    "\\end{equation}"
   ]
  },
  {
   "cell_type": "code",
   "execution_count": null,
   "metadata": {},
   "outputs": [],
   "source": [
    "    beta = 0.5 * nu * nu / (1.0 - nu)\n",
    "        "
   ]
  },
  {
   "cell_type": "markdown",
   "metadata": {},
   "source": [
    "\\begin{equation}\n",
    "\\beta = \\frac{\\nu^{2}}{2(1 - \\nu)}\n",
    "\\end{equation}"
   ]
  },
  {
   "cell_type": "code",
   "execution_count": null,
   "metadata": {},
   "outputs": [],
   "source": [
    "    xi_factor = 0.5 * r * r * beta\n"
   ]
  },
  {
   "cell_type": "markdown",
   "metadata": {},
   "source": [
    "\\begin{equation}\n",
    "\\text{xi_factor} = \\frac{M_\\mu ^{2} \\nu^{2}}{4m_e^{2}(1 - \\nu)}\n",
    "\\end{equation}"
   ]
  },
  {
   "cell_type": "code",
   "execution_count": null,
   "metadata": {},
   "outputs": [],
   "source": [
    "    A = 202.4 if Z == 1.0 else 183.0\n",
    "    AZ13 = A / Z13"
   ]
  },
  {
   "cell_type": "code",
   "execution_count": null,
   "metadata": {},
   "outputs": [],
   "source": [
    "    cL = 2. * sqrte * ELECTRON_MASS * AZ13"
   ]
  },
  {
   "cell_type": "markdown",
   "metadata": {},
   "source": [
    "\\begin{equation}\n",
    "cl = 2\\sqrt{e} m_e \\frac{A}{Z^{1/3}}\n",
    "\\end{equation}"
   ]
  },
  {
   "cell_type": "code",
   "execution_count": null,
   "metadata": {},
   "outputs": [],
   "source": [
    "    cLe = 2.25 * Z13 * Z13 / (r * r)"
   ]
  },
  {
   "cell_type": "markdown",
   "metadata": {},
   "source": [
    "\\begin{equation}\n",
    "cle = (\\frac{3m_e Z^{1/3}}{2M_\\mu})^{2}\n",
    "\\end{equation}"
   ]
  },
  {
   "cell_type": "markdown",
   "metadata": {},
   "source": [
    "###  Compute the bound for the integral."
   ]
  },
  {
   "cell_type": "code",
   "execution_count": null,
   "metadata": {},
   "outputs": [],
   "source": [
    "    gamma = 1. + K / mass\n",
    "    x0 = 4.0 * ELECTRON_MASS / q\n",
    "    x1 = 6.0 / (gamma * (gamma - q / mass))\n",
    "    argmin = (x0 + 2. * (1. - x0) * x1) / (1. + (1. - x1) * math.sqrt(1. - x0))\n",
    "    if (argmin >= 1.) or (argmin <= 0.):\n",
    "        return 0.0\n",
    "    tmin = math.log(argmin)"
   ]
  },
  {
   "cell_type": "markdown",
   "metadata": {},
   "source": [
    "### Compute the integral over t = ln(1-rho)."
   ]
  },
  {
   "cell_type": "code",
   "execution_count": null,
   "metadata": {},
   "outputs": [],
   "source": [
    "    I = 0.0\n",
    "    i = 0\n",
    "    for i in range(8):\n",
    "        eps = math.exp(xGQ[i] * tmin)\n",
    "        rho = 1. - eps\n",
    "        rho2 = rho * rho\n",
    "        rho21 = eps * (2. - eps)\n",
    "        xi = xi_factor * rho21\n",
    "        xi_i = 1. / xi\n",
    "        #Compute the e-term. \n",
    "        Be = 0.\n",
    "        if xi >= 1E+03:\n",
    "            Be = 0.5 * xi_i * ((3 - rho2) + 2. * beta * (1. + rho2))\n",
    "        else:\n",
    "            Be = ((2. + rho2) * (1. + beta) + xi * (3. + rho2)) * math.log(1. + xi_i) + (rho21 - beta) / (1. + xi) - 3. - rho2\n",
    "        Ye = (5. - rho2 + 4. * beta * (1. + rho2)) / (2. * (1. + 3. * beta) * math.log(3. + xi_i) - rho2 - 2. * beta * (2. - rho2))"
   ]
  },
  {
   "cell_type": "code",
   "execution_count": null,
   "metadata": {},
   "outputs": [],
   "source": [
    "        xe = (1. + xi) * (1. + Ye)            "
   ]
  },
  {
   "cell_type": "markdown",
   "metadata": {},
   "source": [
    "\\begin{equation}\n",
    "xe = (1 + \\xi)(1 + Y_e)\n",
    "\\end{equation}"
   ]
  },
  {
   "cell_type": "code",
   "execution_count": null,
   "metadata": {},
   "outputs": [],
   "source": [
    "        cLi = cL / rho21"
   ]
  },
  {
   "cell_type": "code",
   "execution_count": null,
   "metadata": {},
   "outputs": [],
   "source": [
    "        Le = math.log(AZ13 * math.sqrt(xe) * q / (q + cLi * xe)) - 0.5 * math.log(1. + cLe * xe)\n",
    "                "
   ]
  },
  {
   "cell_type": "markdown",
   "metadata": {},
   "source": [
    "\\begin{equation}\n",
    "Le = \\ln(\\frac{A^{*}Z^{-1/3} \\sqrt{(1 + \\xi)(1 + Y_e)}}{1 + \\frac{2m\\sqrt{e}A*Z^{-1/3}(1 + \\xi)(1 + Y_\\mu)}{E\\nu(1 - \\rho^{2})}})  - \\frac{1}{2}ln([1 + (\\frac{3mZ^{1/3}}{2\\mu})^{2}(1 + \\xi)(1 + Y_e)]) = ln(\\frac{qA^{*}Z^{-1/3}\\sqrt{xe}}{q + cli*xe}) - \\frac{1}{2}ln([1 + cle*xe])\n",
    "\\end{equation}"
   ]
  },
  {
   "cell_type": "code",
   "execution_count": null,
   "metadata": {},
   "outputs": [],
   "source": [
    "        Phi_e = Be * Le\n",
    "        if Phi_e < 0.:\n",
    "            Phi_e = 0."
   ]
  },
  {
   "cell_type": "markdown",
   "metadata": {},
   "source": [
    "### Compute the mu-term."
   ]
  },
  {
   "cell_type": "code",
   "execution_count": null,
   "metadata": {},
   "outputs": [],
   "source": [
    "        Bmu = 0.\n",
    "        if xi <= 1E-03:\n",
    "            Bmu = 0.5 * xi * (5. - rho2 + beta * (3. + rho2))\n",
    "        else:\n",
    "            Bmu = ((1. + rho2) * (1. + 1.5 * beta) - xi_i * (1. + 2. * beta) * rho21) * math.log(1. + xi) + xi * (rho21 - beta) / (1. + xi) + (1. + 2. * beta) * rho21\n",
    "        Ymu = (4. + rho2 + 3. * beta * (1. + rho2)) / ((1. + rho2) * (1.5 + 2. * beta) * math.log(3. + xi) + 1. - 1.5 * rho2)\n",
    "        xmu = (1. + xi) * (1. + Ymu)"
   ]
  },
  {
   "cell_type": "code",
   "execution_count": null,
   "metadata": {},
   "outputs": [],
   "source": [
    "        Lmu = math.log(r * AZ13 * q / (1.5 * Z13 * (q + cLi * xmu)))"
   ]
  },
  {
   "cell_type": "markdown",
   "metadata": {},
   "source": [
    "\\begin{equation}\n",
    "L_\\mu = \\ln(\\frac{(\\frac{M_\\mu}{m_e})A^{*}Z^{-1/3} \\sqrt{(1 + \\frac{1}{\\xi})(1 + Y_e)}}{1 + \\frac{2m\\sqrt{e}A*Z^{-1/3}(1 + \\xi)(1 + Y_\\mu)}{E\\nu(1 - \\rho^{2})}})  - ln(\\frac{3}{2} Z^{1/3}\\sqrt{(1 + \\frac{1}{\\xi})(1 + Y_\\mu)})\n",
    "\\end{equation}"
   ]
  },
  {
   "cell_type": "code",
   "execution_count": null,
   "metadata": {},
   "outputs": [],
   "source": [
    "        Phi_mu = Bmu * Lmu\n",
    "        if Phi_mu < 0.:\n",
    "            Phi_mu = 0.\n",
    "        # Update the t-integral.\n",
    "        I -= (Phi_e + Phi_mu / (r * r)) * (1. - rho) * wGQ[i] * tmin"
   ]
  },
  {
   "cell_type": "markdown",
   "metadata": {},
   "source": [
    "### Atomic electrons form factor.\n",
    "ζ(Z) ≈ 1 takes into account the pair production in collisions with\n",
    "electrons. "
   ]
  },
  {
   "cell_type": "code",
   "execution_count": null,
   "metadata": {},
   "outputs": [],
   "source": [
    "    zeta = 0.\n",
    "    if gamma <= 35.:\n",
    "        zeta = 0.\n",
    "    else:\n",
    "        gamma1 = 0.\n",
    "        gamma2 = 0.\n",
    "        if Z == 1.:\n",
    "            gamma1 = 4.4E-05\n",
    "            gamma2 = 4.8E-05\n",
    "        else:\n",
    "            gamma1 = 1.95E-05\n",
    "            gamma2 = 5.30E-05\n",
    "        zeta = 0.073 * math.log(gamma / (1. + gamma1 * gamma * Z13 * Z13)) - 0.26\n",
    "        if zeta <= 0.:\n",
    "            zeta = 0.\n",
    "        else:\n",
    "            zeta /= 0.058 * math.log(gamma / (1. + gamma2 * gamma * Z13)) - 0.14"
   ]
  },
  {
   "cell_type": "markdown",
   "metadata": {},
   "source": [
    "### Gather the results and return the macroscopic DCS.\n",
    "\n",
    "The full muon's energy\n"
   ]
  },
  {
   "cell_type": "code",
   "execution_count": null,
   "metadata": {},
   "outputs": [],
   "source": [
    "    E = K + mass"
   ]
  },
  {
   "cell_type": "code",
   "execution_count": null,
   "metadata": {},
   "outputs": [],
   "source": [
    "    dcs = 1.794664E-34 * Z * (Z + zeta) * (E - q) * I / (q * E)"
   ]
  },
  {
   "cell_type": "markdown",
   "metadata": {},
   "source": [
    "\\begin{equation}\n",
    "\\Phi_{e,\\mu} = B_{e,\\mu} {L_{e,\\mu}}^{'}\n",
    "\\end{equation}\n",
    "\n",
    "\\begin{equation}\n",
    "\\Phi_{e,\\mu} = 0 \\text{  whenever  } \\Phi_{e,\\mu}<0\n",
    "\\end{equation}\n",
    "\n",
    "$B_e$ and $B_\\mu$ do not depend on Z, A, and are given by\n",
    "\n",
    "\\begin{equation}\n",
    "B_e = [(2 + \\rho^{2})(1 + \\beta) + \\xi(3 + \\rho^{2})]\\ln(1 + \\frac{1}{\\xi}) + \\frac{1 - \\rho^{2} - \\beta}{1 + \\xi} - (3 + \\rho^{2})\n",
    "\\approx \\frac{1}{2\\xi}[(3 - \\rho^{2}) + 2\\beta(z + \\rho^{2})] \\text{ for } \\xi \\geq 10 ^{3}\n",
    "\\end{equation}\n",
    "\n",
    "\\begin{equation}\n",
    "B_\\mu = [(1 + \\rho^{2})(1 + \\frac{3\\beta}{2}) - \\frac{1}{\\xi}(1 + 2\\beta)(1 - \\rho^{2})]\\ln(1 + \\xi) + \\frac{\\xi(1 - \\rho{2} - \\beta)}{1 + \\xi} + (1 + 2\\beta)(1 - \\rho^{2})\n",
    "\\approx \\frac{\\xi}{2}[(5 - \\rho^{2}) + \\beta(3 + \\rho^{2})] \\text{ for } \\xi \\leq 10^{-3}\n",
    "\\end{equation}\n",
    "\n",
    "Also,\n",
    "\n",
    "\n",
    "\\begin{equation}\n",
    "\\xi = \\frac{\\mu^{2}\\nu^{2}}{4m^{2}} \\frac{(1 - \\rho^{2})}{1 - \\nu}; \\text{ }\n",
    "\\beta = \\frac{\\nu^{2}}{2(1 - \\nu)}\n",
    "\\end{equation}\n"
   ]
  },
  {
   "cell_type": "markdown",
   "metadata": {},
   "source": [
    "re = 2.8179403262e-15m - Classical electron radius\n",
    "\n",
    "𝛼=0.0072973525628(6)−fine structure constant\n",
    "\n",
    "\\begin{equation}\n",
    "\\alpha^{2} \\frac{4}{3\\pi} r_e^{2} = 1.7946638150444265e-34\n",
    "\\end{equation}"
   ]
  },
  {
   "cell_type": "code",
   "execution_count": 11,
   "metadata": {},
   "outputs": [
    {
     "name": "stdout",
     "output_type": "stream",
     "text": [
      "1.7946638150444265e-34\n",
      "1.0000001030586185\n"
     ]
    }
   ],
   "source": [
    "import numpy as np\n",
    "re =  2.8179403262E-15\n",
    "a = 0.0072973525628\n",
    "res = 1.794664E-34\n",
    "out = (4*a*a*re*re)/(3*np.pi)\n",
    "print(out)\n",
    "print(res/out)"
   ]
  },
  {
   "cell_type": "markdown",
   "metadata": {},
   "source": [
    "\\begin{equation}\n",
    "\\nu = \\frac{q}{E}\n",
    "\\end{equation}"
   ]
  },
  {
   "cell_type": "markdown",
   "metadata": {},
   "source": [
    "\\begin{equation}\n",
    "\\frac{\\text{d}\\sigma}{\\text{d}\\nu}(E, \\nu) = \\frac{4}{3\\pi}{(\\alpha r_e)}^{2}   Z(Z + \\xi(Z))(\\frac{E - q}{Eq}) \\int_{p}[\\Phi_e + (m_e/M_\\mu)^{2}\\Phi_\\mu]dp\n",
    "\\end{equation}"
   ]
  },
  {
   "cell_type": "code",
   "execution_count": null,
   "metadata": {},
   "outputs": [],
   "source": [
    "    return 0 if dcs < 0. else dcs * 1E+03 * AVOGADRO_NUMBER * (mass + K) / A"
   ]
  }
 ],
 "metadata": {
  "kernelspec": {
   "display_name": "Python 3",
   "language": "python",
   "name": "python3"
  },
  "language_info": {
   "codemirror_mode": {
    "name": "ipython",
    "version": 3
   },
   "file_extension": ".py",
   "mimetype": "text/x-python",
   "name": "python",
   "nbconvert_exporter": "python",
   "pygments_lexer": "ipython3",
   "version": "3.8.5"
  }
 },
 "nbformat": 4,
 "nbformat_minor": 4
}
