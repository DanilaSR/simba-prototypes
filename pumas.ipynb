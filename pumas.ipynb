{
 "cells": [
  {
   "cell_type": "markdown",
   "id": "8873c03b",
   "metadata": {},
   "source": [
    "# PUMAS differential cross-sections"
   ]
  },
  {
   "cell_type": "code",
   "execution_count": null,
   "id": "2fc38962",
   "metadata": {},
   "outputs": [],
   "source": [
    "import torch"
   ]
  },
  {
   "cell_type": "markdown",
   "id": "be5d9fd0",
   "metadata": {},
   "source": [
    "Fetch the data for testing the DCS calculations from the [noa](https://github.com/grinisrit/noa) platform."
   ]
  },
  {
   "cell_type": "code",
   "execution_count": null,
   "id": "0d6346eb",
   "metadata": {},
   "outputs": [],
   "source": [
    "!git clone --depth 1 --branch v0.0.1 https://github.com/grinisrit/noa-test-data.git"
   ]
  },
  {
   "cell_type": "markdown",
   "id": "7f507713",
   "metadata": {},
   "source": [
    "Load the Bremsstrahlung DCS values and parameters"
   ]
  },
  {
   "cell_type": "code",
   "execution_count": null,
   "id": "d7f8a994",
   "metadata": {},
   "outputs": [],
   "source": [
    "kinetic_energies = list(torch.jit.load('noa-test-data/pms/kinetic_energies.pt').parameters())[0]\n",
    "recoil_energies = list(torch.jit.load('noa-test-data/pms/recoil_energies.pt').parameters())[0]\n",
    "pumas_brems = list(torch.jit.load('noa-test-data/pms/pumas_brems.pt').parameters())[0]"
   ]
  },
  {
   "cell_type": "markdown",
   "id": "8d1db447",
   "metadata": {},
   "source": [
    "Use them to test your implementation (have a look at [examples](https://github.com/grinisrit/noa/blob/965c6fb60bd8a91ce14922cdc89b3d5c4806fd0e/test/test-dcs.cc#L11))"
   ]
  }
 ],
 "metadata": {
  "kernelspec": {
   "display_name": "Python 3",
   "language": "python",
   "name": "python3"
  },
  "language_info": {
   "codemirror_mode": {
    "name": "ipython",
    "version": 3
   },
   "file_extension": ".py",
   "mimetype": "text/x-python",
   "name": "python",
   "nbconvert_exporter": "python",
   "pygments_lexer": "ipython3",
   "version": "3.9.4"
  }
 },
 "nbformat": 4,
 "nbformat_minor": 5
}
