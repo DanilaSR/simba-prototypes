{
 "cells": [
  {
   "cell_type": "markdown",
   "id": "8873c03b",
   "metadata": {},
   "source": [
    "# PUMAS differential cross-sections"
   ]
  },
  {
   "cell_type": "code",
   "execution_count": 1,
   "id": "2fc38962",
   "metadata": {},
   "outputs": [],
   "source": [
    "import torch"
   ]
  },
  {
   "cell_type": "markdown",
   "id": "be5d9fd0",
   "metadata": {},
   "source": [
    "Fetch the data for testing the DCS calculations from the [noa](https://github.com/grinisrit/noa) platform."
   ]
  },
  {
   "cell_type": "code",
   "execution_count": 3,
   "id": "0d6346eb",
   "metadata": {},
   "outputs": [
    {
     "name": "stdout",
     "output_type": "stream",
     "text": [
      "Cloning into 'noa-test-data'...\n",
      "remote: Enumerating objects: 34, done.\u001b[K\n",
      "remote: Counting objects: 100% (34/34), done.\u001b[K\n",
      "remote: Compressing objects: 100% (14/14), done.\u001b[K\n",
      "remote: Total 34 (delta 20), reused 34 (delta 20), pack-reused 0\u001b[K\n",
      "Unpacking objects: 100% (34/34), 19.80 KiB | 596.00 KiB/s, done.\n",
      "Note: switching to 'a123315ab501d2d024822b89750cb1a346425f4f'.\n",
      "\n",
      "You are in 'detached HEAD' state. You can look around, make experimental\n",
      "changes and commit them, and you can discard any commits you make in this\n",
      "state without impacting any branches by switching back to a branch.\n",
      "\n",
      "If you want to create a new branch to retain commits you create, you may\n",
      "do so (now or later) by using -c with the switch command. Example:\n",
      "\n",
      "  git switch -c <new-branch-name>\n",
      "\n",
      "Or undo this operation with:\n",
      "\n",
      "  git switch -\n",
      "\n",
      "Turn off this advice by setting config variable advice.detachedHead to false\n",
      "\n"
     ]
    }
   ],
   "source": [
    "!rm -rf noa-test-data\n",
    "!git clone --depth 1 --branch v0.0.1 https://github.com/grinisrit/noa-test-data.git"
   ]
  },
  {
   "cell_type": "markdown",
   "id": "7f507713",
   "metadata": {},
   "source": [
    "Load the Bremsstrahlung DCS values and parameters"
   ]
  },
  {
   "cell_type": "code",
   "execution_count": 4,
   "id": "d7f8a994",
   "metadata": {},
   "outputs": [],
   "source": [
    "kinetic_energies = list(torch.jit.load('noa-test-data/pms/kinetic_energies.pt').parameters())[0]\n",
    "recoil_energies = list(torch.jit.load('noa-test-data/pms/recoil_energies.pt').parameters())[0]\n",
    "pumas_brems = list(torch.jit.load('noa-test-data/pms/pumas_brems.pt').parameters())[0]"
   ]
  },
  {
   "cell_type": "markdown",
   "id": "8d1db447",
   "metadata": {},
   "source": [
    "Use them to test your implementation (have a look at [examples](https://github.com/grinisrit/noa/blob/master/test/unit/test-dcs-calc.cc))"
   ]
  },
  {
   "cell_type": "code",
   "execution_count": 10,
   "id": "9380e742",
   "metadata": {},
   "outputs": [
    {
     "data": {
      "text/plain": [
       "tensor(0.0010, dtype=torch.float64)"
      ]
     },
     "execution_count": 10,
     "metadata": {},
     "output_type": "execute_result"
    }
   ],
   "source": [
    "K = kinetic_energies[0]\n",
    "K"
   ]
  },
  {
   "cell_type": "code",
   "execution_count": 11,
   "id": "061d0923",
   "metadata": {},
   "outputs": [
    {
     "data": {
      "text/plain": [
       "tensor(5.0500e-05, dtype=torch.float64)"
      ]
     },
     "execution_count": 11,
     "metadata": {},
     "output_type": "execute_result"
    }
   ],
   "source": [
    "q = recoil_energies[0]\n",
    "q"
   ]
  },
  {
   "cell_type": "code",
   "execution_count": null,
   "id": "c19708df",
   "metadata": {},
   "outputs": [],
   "source": []
  },
  {
   "cell_type": "code",
   "execution_count": 12,
   "id": "0cf9d4df",
   "metadata": {},
   "outputs": [
    {
     "data": {
      "text/plain": [
       "tensor(0.0004, dtype=torch.float64)"
      ]
     },
     "execution_count": 12,
     "metadata": {},
     "output_type": "execute_result"
    }
   ],
   "source": [
    "pumas_brems[0]"
   ]
  }
 ],
 "metadata": {
  "kernelspec": {
   "display_name": "Python 3",
   "language": "python",
   "name": "python3"
  },
  "language_info": {
   "codemirror_mode": {
    "name": "ipython",
    "version": 3
   },
   "file_extension": ".py",
   "mimetype": "text/x-python",
   "name": "python",
   "nbconvert_exporter": "python",
   "pygments_lexer": "ipython3",
   "version": "3.9.5"
  }
 },
 "nbformat": 4,
 "nbformat_minor": 5
}
